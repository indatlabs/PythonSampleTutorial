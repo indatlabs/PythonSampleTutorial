{
 "cells": [
  {
   "cell_type": "markdown",
   "metadata": {},
   "source": [
    "# Python tutorial\n",
    "Instructor: Stan Sobolevsky  \n",
    "Founding Partner at www.indatlabs.com  \n",
    "Associate Professor Of Practice And Director Of Urban Complexity Lab\n",
    "at New York University (CUSP NYU)\n",
    "sobolevsky@indatlabs.com\n",
    "\n",
    "\n",
    "# Python basics\n",
    "\n",
    "Why Python?\n",
    "\n",
    "* easy learning curve, intuitive syntax;  \n",
    "* free open-source project with community-development model;\n",
    "* rich supply of modules/libraties;\n",
    "* improved programmer productivity;\n",
    "* great performance for a script language;\n",
    "* advanced integration capabilities (C/C++, Java, XML, JSON etc).\n",
    "\n",
    "Disadvantages come as a flipside of its strenghts:  \n",
    "* it is an intepretable language, so performance is limited compared to compiled ones;\n",
    "* intuitive syntax (e.g. dynamic typing) makes it susceptible to run-time errors;\n",
    "* community-development model with is a key for its fast development leads to decentralization and often lack of coordination between different modules  \n",
    "** otherwise Python 2-3 fork would never happen without providing 100% backwards compatibility\n",
    "\n",
    "So why still Python 2? \n",
    "\n",
    "Although Python 3 is thought as the future of the language and increasingly many new projects reply on it, there is still a considerable amount of libraries and projects not ported. So Python 2 is thought as a solid and stable \"safe-harbor\", while providing comprehensive fnctionality for your data science projects. Besides the differences in syntax is tiny and it will be easy to move to Python 3 when needed. "
   ]
  },
  {
   "cell_type": "markdown",
   "metadata": {},
   "source": [
    "In the first session we will cover data types, operators, variables, flow control (loops and branching), useful built-in and user defined functions, and data structures (lists, tuples, sets, dictionaries). We will also master some particular \"Pythonic\" ways of coding like list and dictionary comprehensions "
   ]
  },
  {
   "cell_type": "markdown",
   "metadata": {},
   "source": [
    "## Jupyter (iPython) notebook basics"
   ]
  },
  {
   "cell_type": "markdown",
   "metadata": {},
   "source": [
    "First spare a few words talking of the eviroment we'll utility for our class. Jupyter or iPython Notebook brings together code, data and textual comments. Depending on the balance between the least, you can think of it as commented code or interactive blog/article/tutorial.\n",
    "\n",
    "Notebook consists of **cells** as its basic building blocks. Each cell could be \n",
    "* *code* - piece of python code, self-consistent or using results of previously processed cells\n",
    "* *markdown* - textual comments with formatting symbols (standard markdown syntax https://en.wikipedia.org/wiki/Markdown is supported)\n",
    "* *heading/subheading* - special case of markdown starting with # or ##, ###,... with respect to heading level\n",
    "* raw cell (like below) - content to be included unmodified for futher possible conversion"
   ]
  },
  {
   "cell_type": "raw",
   "metadata": {},
   "source": [
    "{\n",
    "  \"cell_type\" : \"raw\",\n",
    "  \"metadata\" : {\n",
    "    # the mime-type of the target nbconvert format.\n",
    "    # nbconvert to formats other than this will exclude this cell.\n",
    "    \"format\" : \"mime/type\"\n",
    "  },\n",
    "  \"source\" : [\"some nbformat mime-type data\"]\n",
    "}"
   ]
  },
  {
   "cell_type": "markdown",
   "metadata": {},
   "source": [
    "Markdown basics (credits to https://en.wikipedia.org/wiki/Markdown ):\n",
    "# Heading\n",
    "\n",
    "## Sub-heading\n",
    "\n",
    "Paragraphs are separated by a blank line.\n",
    "\n",
    "Two spaces at the end of a line   \n",
    "produces a line break.\n",
    "\n",
    "_smth bold_\n",
    "Text attributes _italic_, \n",
    "**bold**, `monospace`.\n",
    "\n",
    "Horizontal rule:\n",
    "\n",
    "---\n",
    "\n",
    "Bullet list:\n",
    "\n",
    "  * apples\n",
    "  * oranges\n",
    "  * pears\n",
    "\n",
    "Numbered list:\n",
    "\n",
    "  1. wash\n",
    "  2. rinse\n",
    "  3. repeat\n",
    "\n",
    "A [link](http://example.com).\n",
    "\n",
    "![Image](Image_icon.png)\n",
    "\n",
    "> Markdown uses email-style > characters for blockquoting.\n",
    "\n",
    "Inline <abbr title=\"Hypertext Markup Language\">HTML</abbr> is supported."
   ]
  },
  {
   "cell_type": "markdown",
   "metadata": {},
   "source": [
    "If you want to include a formulae - TeX syntax is supported too!\n",
    "$$\n",
    "S=\\sum\\limits_{i=1}^{100}i^2\n",
    "$$"
   ]
  },
  {
   "cell_type": "markdown",
   "metadata": {},
   "source": [
    "## Python Expressions"
   ]
  },
  {
   "cell_type": "markdown",
   "metadata": {},
   "source": [
    "Now let's get back to Python. A simplest code cell can contain an expression using constant values and operators to be calculated. There are 7 arithmetic operators:"
   ]
  },
  {
   "cell_type": "markdown",
   "metadata": {},
   "source": [
    "| Operator | Function |\n",
    "|----|---|\n",
    "| +  | Addition |\n",
    "| -  | Subtraction |\n",
    "| *  | multiplication |\n",
    "| /  | division |\n",
    "| %  | remainder (modulus) |\n",
    "| //  | integer division |\n",
    "| **  | power |"
   ]
  },
  {
   "cell_type": "code",
   "execution_count": 1,
   "metadata": {},
   "outputs": [
    {
     "data": {
      "text/plain": [
       "3"
      ]
     },
     "execution_count": 1,
     "metadata": {},
     "output_type": "execute_result"
    }
   ],
   "source": [
    "#addition\n",
    "1+2"
   ]
  },
  {
   "cell_type": "code",
   "execution_count": 2,
   "metadata": {},
   "outputs": [
    {
     "data": {
      "text/plain": [
       "8"
      ]
     },
     "execution_count": 2,
     "metadata": {},
     "output_type": "execute_result"
    }
   ],
   "source": [
    "#third power of 2\n",
    "2**3"
   ]
  },
  {
   "cell_type": "code",
   "execution_count": 3,
   "metadata": {},
   "outputs": [
    {
     "data": {
      "text/plain": [
       "1"
      ]
     },
     "execution_count": 3,
     "metadata": {},
     "output_type": "execute_result"
    }
   ],
   "source": [
    "#remainder of 10 divided by 3\n",
    "10%3"
   ]
  },
  {
   "cell_type": "code",
   "execution_count": 4,
   "metadata": {},
   "outputs": [
    {
     "data": {
      "text/plain": [
       "2.5"
      ]
     },
     "execution_count": 4,
     "metadata": {},
     "output_type": "execute_result"
    }
   ],
   "source": [
    "#notice that if we want actual floating point division we need to instruct python that we are working with floating point numbers\n",
    "5.0/2"
   ]
  },
  {
   "cell_type": "markdown",
   "metadata": {},
   "source": [
    "**WARNING!!!** First common \"Pythonic\" confusion below:"
   ]
  },
  {
   "cell_type": "code",
   "execution_count": 5,
   "metadata": {},
   "outputs": [
    {
     "data": {
      "text/plain": [
       "2"
      ]
     },
     "execution_count": 5,
     "metadata": {},
     "output_type": "execute_result"
    }
   ],
   "source": [
    "#otherwise if the numbers appear integer, the division is also going to be integer\n",
    "5/2"
   ]
  },
  {
   "cell_type": "code",
   "execution_count": 6,
   "metadata": {},
   "outputs": [
    {
     "data": {
      "text/plain": [
       "2.0"
      ]
     },
     "execution_count": 6,
     "metadata": {},
     "output_type": "execute_result"
    }
   ],
   "source": [
    "#integer division on the real number can be performed as\n",
    "5.0//2"
   ]
  },
  {
   "cell_type": "markdown",
   "metadata": {},
   "source": [
    "The same operator could work differently in different contexts depending on the data type"
   ]
  },
  {
   "cell_type": "code",
   "execution_count": 7,
   "metadata": {},
   "outputs": [
    {
     "data": {
      "text/plain": [
       "'ab'"
      ]
     },
     "execution_count": 7,
     "metadata": {},
     "output_type": "execute_result"
    }
   ],
   "source": [
    "#e.g. for string data + is going to work as concatenation\n",
    "'a'+'b'"
   ]
  },
  {
   "cell_type": "markdown",
   "metadata": {},
   "source": [
    "As for the arithmetic operators Python uses the natural order of precedence: multiplication and division performed first, addition and subtraction after. If need to change that use brackets"
   ]
  },
  {
   "cell_type": "code",
   "execution_count": 8,
   "metadata": {},
   "outputs": [
    {
     "data": {
      "text/plain": [
       "7"
      ]
     },
     "execution_count": 8,
     "metadata": {},
     "output_type": "execute_result"
    }
   ],
   "source": [
    "1+2*3"
   ]
  },
  {
   "cell_type": "code",
   "execution_count": 9,
   "metadata": {},
   "outputs": [
    {
     "data": {
      "text/plain": [
       "9"
      ]
     },
     "execution_count": 9,
     "metadata": {},
     "output_type": "execute_result"
    }
   ],
   "source": [
    "(1+2)*3"
   ]
  },
  {
   "cell_type": "markdown",
   "metadata": {},
   "source": [
    "# Data types"
   ]
  },
  {
   "cell_type": "markdown",
   "metadata": {},
   "source": [
    "So while data types are not explicitely declared, it is important to be aware of them. Python has 6 built-in Data-Types:\n",
    "\n",
    "| Type     | Description           | Example |\n",
    "|----------|-----------------------|---------|\n",
    "| int      | Integer values        | 5     |\n",
    "| float    | Floating point values | 5.1   |\n",
    "| complex  | Complex values        | 2 + 2j  |\n",
    "| bool     | Boolean values        | True, False    |\n",
    "| str      | String values         | \"abc\" |\n",
    "| NoneType | None value            | None    |"
   ]
  },
  {
   "cell_type": "markdown",
   "metadata": {},
   "source": [
    "if you want to check type of certain data it could be done through type() function"
   ]
  },
  {
   "cell_type": "code",
   "execution_count": 10,
   "metadata": {},
   "outputs": [
    {
     "data": {
      "text/plain": [
       "int"
      ]
     },
     "execution_count": 10,
     "metadata": {},
     "output_type": "execute_result"
    }
   ],
   "source": [
    "type(5)"
   ]
  },
  {
   "cell_type": "code",
   "execution_count": 11,
   "metadata": {},
   "outputs": [
    {
     "data": {
      "text/plain": [
       "float"
      ]
     },
     "execution_count": 11,
     "metadata": {},
     "output_type": "execute_result"
    }
   ],
   "source": [
    "type(5.0)"
   ]
  },
  {
   "cell_type": "code",
   "execution_count": 12,
   "metadata": {},
   "outputs": [
    {
     "data": {
      "text/plain": [
       "str"
      ]
     },
     "execution_count": 12,
     "metadata": {},
     "output_type": "execute_result"
    }
   ],
   "source": [
    "type('a')"
   ]
  },
  {
   "cell_type": "code",
   "execution_count": 13,
   "metadata": {},
   "outputs": [
    {
     "data": {
      "text/plain": [
       "bool"
      ]
     },
     "execution_count": 13,
     "metadata": {},
     "output_type": "execute_result"
    }
   ],
   "source": [
    "type(False)"
   ]
  },
  {
   "cell_type": "markdown",
   "metadata": {},
   "source": [
    "# Relational and logical operators"
   ]
  },
  {
   "cell_type": "markdown",
   "metadata": {},
   "source": [
    "Now once we learned different types, lets consider corresponding operators to work with them. \n",
    "Relational operators prodicing logical values are `==` (equal), `!=` (not equal), `>`, `<`, `>=`, `<=`"
   ]
  },
  {
   "cell_type": "code",
   "execution_count": 14,
   "metadata": {},
   "outputs": [
    {
     "data": {
      "text/plain": [
       "True"
      ]
     },
     "execution_count": 14,
     "metadata": {},
     "output_type": "execute_result"
    }
   ],
   "source": [
    "(3+2)==(2+3)"
   ]
  },
  {
   "cell_type": "code",
   "execution_count": 15,
   "metadata": {},
   "outputs": [
    {
     "data": {
      "text/plain": [
       "True"
      ]
     },
     "execution_count": 15,
     "metadata": {},
     "output_type": "execute_result"
    }
   ],
   "source": [
    "(3-2)!=(2-3)"
   ]
  },
  {
   "cell_type": "markdown",
   "metadata": {},
   "source": [
    "Logical operators include `and`, `or` and `not` "
   ]
  },
  {
   "cell_type": "code",
   "execution_count": 16,
   "metadata": {},
   "outputs": [
    {
     "data": {
      "text/plain": [
       "True"
      ]
     },
     "execution_count": 16,
     "metadata": {},
     "output_type": "execute_result"
    }
   ],
   "source": [
    "(1<2) or (2<1)"
   ]
  },
  {
   "cell_type": "code",
   "execution_count": 17,
   "metadata": {},
   "outputs": [
    {
     "data": {
      "text/plain": [
       "True"
      ]
     },
     "execution_count": 17,
     "metadata": {},
     "output_type": "execute_result"
    }
   ],
   "source": [
    "not(2>3)"
   ]
  },
  {
   "cell_type": "markdown",
   "metadata": {},
   "source": [
    "Logical conditions are often using in flow control (choosing which code to execute depending on a certain condition to hold; e.g. if smth is less or equal to smth, then do smth, otherwise stop.  "
   ]
  },
  {
   "cell_type": "markdown",
   "metadata": {},
   "source": [
    "## Variables"
   ]
  },
  {
   "cell_type": "markdown",
   "metadata": {},
   "source": [
    "Variables are used to store data.\n",
    "\n",
    "Each variable is identified by a unique name. Names has to abide the following rules:"
   ]
  },
  {
   "cell_type": "markdown",
   "metadata": {},
   "source": [
    "Can start with an underscore \"\\_\" a capital or lower case letter. The following letters could by digits or characters.\n",
    "Python is a case-sensitive language, so a variable `abc` is not the same as `ABC` or `abC`.\n",
    "\n",
    "A common convention is to use all upper case names for global variables and all lower case names for local variables.\n",
    "\n",
    "Also the following build-in keywords cannot be used as variable names."
   ]
  },
  {
   "cell_type": "markdown",
   "metadata": {},
   "source": [
    "There is no need to declare Python variables upfront, like in some other programming languages. The variable is created the first time it is assigned a value."
   ]
  },
  {
   "cell_type": "code",
   "execution_count": 18,
   "metadata": {},
   "outputs": [],
   "source": [
    "A=1"
   ]
  },
  {
   "cell_type": "code",
   "execution_count": 19,
   "metadata": {},
   "outputs": [],
   "source": [
    "B=2"
   ]
  },
  {
   "cell_type": "code",
   "execution_count": 20,
   "metadata": {},
   "outputs": [],
   "source": [
    "#notice that each cell can contain multiple operators (including assignment operators) separated by ; \n",
    "#assignment operators do not generate any output\n",
    "C=A; D=1"
   ]
  },
  {
   "cell_type": "code",
   "execution_count": 21,
   "metadata": {},
   "outputs": [
    {
     "data": {
      "text/plain": [
       "2"
      ]
     },
     "execution_count": 21,
     "metadata": {},
     "output_type": "execute_result"
    }
   ],
   "source": [
    "#if the last operator is different from an assignment, it will generate output\n",
    "D=2; D"
   ]
  },
  {
   "cell_type": "markdown",
   "metadata": {},
   "source": [
    "Variable types in Python are not explicitly specified, but defined upon assignment. This is quite convenient, however may cause issues/bugs, which are sometimes hard to track"
   ]
  },
  {
   "cell_type": "code",
   "execution_count": 22,
   "metadata": {},
   "outputs": [],
   "source": [
    "A=5"
   ]
  },
  {
   "cell_type": "code",
   "execution_count": 23,
   "metadata": {},
   "outputs": [],
   "source": [
    "B=2"
   ]
  },
  {
   "cell_type": "code",
   "execution_count": 24,
   "metadata": {},
   "outputs": [
    {
     "data": {
      "text/plain": [
       "2"
      ]
     },
     "execution_count": 24,
     "metadata": {},
     "output_type": "execute_result"
    }
   ],
   "source": [
    "# one may expect 5/2=2.5 however recall that if A,B are integer then / works as an integer division\n",
    "A/B"
   ]
  },
  {
   "cell_type": "code",
   "execution_count": 25,
   "metadata": {},
   "outputs": [
    {
     "data": {
      "text/plain": [
       "2.5"
      ]
     },
     "execution_count": 25,
     "metadata": {},
     "output_type": "execute_result"
    }
   ],
   "source": [
    "A=5.0; B=2; A/B"
   ]
  },
  {
   "cell_type": "code",
   "execution_count": 26,
   "metadata": {},
   "outputs": [],
   "source": [
    "#A handy way of assigning multiple variables at the same time is multiple assignment:\n",
    "A=B=C=D=1"
   ]
  },
  {
   "cell_type": "code",
   "execution_count": 27,
   "metadata": {},
   "outputs": [],
   "source": [
    "#We can also use different values in multiple assignment:\n",
    "A,B,C=1,2,3"
   ]
  },
  {
   "cell_type": "code",
   "execution_count": 28,
   "metadata": {},
   "outputs": [
    {
     "data": {
      "text/plain": [
       "2"
      ]
     },
     "execution_count": 28,
     "metadata": {},
     "output_type": "execute_result"
    }
   ],
   "source": [
    "#expressions could be used in the right-hand side of the assignment\n",
    "A=(1+2+3)/3; A"
   ]
  },
  {
   "cell_type": "markdown",
   "metadata": {},
   "source": [
    "remember some useful shortcuts joining assignment operators with addition, subtraction, multiplication or division:"
   ]
  },
  {
   "cell_type": "code",
   "execution_count": 29,
   "metadata": {},
   "outputs": [],
   "source": [
    "A=5"
   ]
  },
  {
   "cell_type": "code",
   "execution_count": 30,
   "metadata": {},
   "outputs": [
    {
     "data": {
      "text/plain": [
       "6"
      ]
     },
     "execution_count": 30,
     "metadata": {},
     "output_type": "execute_result"
    }
   ],
   "source": [
    "#increment\n",
    "A+=1; A"
   ]
  },
  {
   "cell_type": "code",
   "execution_count": 31,
   "metadata": {},
   "outputs": [
    {
     "data": {
      "text/plain": [
       "5"
      ]
     },
     "execution_count": 31,
     "metadata": {},
     "output_type": "execute_result"
    }
   ],
   "source": [
    "#decrement\n",
    "A-=1; A"
   ]
  },
  {
   "cell_type": "code",
   "execution_count": 32,
   "metadata": {},
   "outputs": [
    {
     "data": {
      "text/plain": [
       "10"
      ]
     },
     "execution_count": 32,
     "metadata": {},
     "output_type": "execute_result"
    }
   ],
   "source": [
    "#double\n",
    "A*=2; A"
   ]
  },
  {
   "cell_type": "code",
   "execution_count": 33,
   "metadata": {},
   "outputs": [
    {
     "data": {
      "text/plain": [
       "5"
      ]
     },
     "execution_count": 33,
     "metadata": {},
     "output_type": "execute_result"
    }
   ],
   "source": [
    "#half\n",
    "A/=2; A"
   ]
  },
  {
   "cell_type": "markdown",
   "metadata": {},
   "source": [
    "### Excercise 1. Given five temperature measurements 60.0, 63.0, 65.5, 70.0, 68.5, compute their average and standard deviation"
   ]
  },
  {
   "cell_type": "markdown",
   "metadata": {},
   "source": [
    "Recall that standard deviation of measurements $x_1, x_2,..., x_n$ is defined as\n",
    "$$\n",
    "\\sigma=\\sqrt{\\frac{\\sum_{i=1}^n (x_i-\\mu)^2}{n}},\n",
    "$$\n",
    "where $\\mu=(\\sum_{i=1}^n x_i)/n$ is the average value. Standard deviation shows how broad is the distribution of the measurements around their average value."
   ]
  },
  {
   "cell_type": "code",
   "execution_count": 34,
   "metadata": {},
   "outputs": [],
   "source": [
    "x1,x2,x3,x4,x5=60.0, 63.0, 65.5, 70.0, 68.5"
   ]
  }
 ],
 "metadata": {
  "kernelspec": {
   "display_name": "Python 2",
   "language": "python",
   "name": "python2"
  },
  "language_info": {
   "codemirror_mode": {
    "name": "ipython",
    "version": 2
   },
   "file_extension": ".py",
   "mimetype": "text/x-python",
   "name": "python",
   "nbconvert_exporter": "python",
   "pygments_lexer": "ipython2",
   "version": "2.7.15"
  }
 },
 "nbformat": 4,
 "nbformat_minor": 1
}
