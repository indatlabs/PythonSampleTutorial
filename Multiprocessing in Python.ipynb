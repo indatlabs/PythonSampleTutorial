{
 "cells": [
  {
   "cell_type": "markdown",
   "metadata": {},
   "source": [
    "# Python tutorial\n",
    "Instructor: Stan Sobolevsky  \n",
    "Founding Partner at www.indatlabs.com  \n",
    "Associate Professor Of Practice And Director Of Urban Complexity Lab\n",
    "at New York University (CUSP NYU)\n",
    "sobolevsky@indatlabs.com"
   ]
  },
  {
   "cell_type": "markdown",
   "metadata": {},
   "source": [
    "# Multiprocessing"
   ]
  },
  {
   "cell_type": "code",
   "execution_count": 1,
   "metadata": {},
   "outputs": [],
   "source": [
    "import multiprocessing\n",
    "import time"
   ]
  },
  {
   "cell_type": "markdown",
   "metadata": {},
   "source": [
    "You probably heard of distributed/parallel computing and the opportunities they provide for scaling computational power for various tasks. E.g. it is often used for enabling deep learning model which are not feasible to fit on a single machine. Let us talk how parallel execution of multiple computational processes can be handled in Python."
   ]
  },
  {
   "cell_type": "markdown",
   "metadata": {},
   "source": [
    "First, consider running several procedures of computing the sum of numbers from 1 to n-1 one by another"
   ]
  },
  {
   "cell_type": "code",
   "execution_count": 2,
   "metadata": {},
   "outputs": [
    {
     "name": "stdout",
     "output_type": "stream",
     "text": [
      "Computing for 10000000 finalized with result 49999995000000; finalized in 1.254162 sec\n",
      "Computing for 100000 finalized with result 4999950000; finalized in 0.015702 sec\n",
      "Computing for 1 finalized with result 0; finalized in 0.000002 sec\n",
      "Computing for 100 finalized with result 4950; finalized in 0.000014 sec\n"
     ]
    }
   ],
   "source": [
    "#define a function implementing a computation process (summing up numbers from 1 to n-1)\n",
    "def processFunction(n):\n",
    "    starttime=time.time() #measure execution time\n",
    "    S=0\n",
    "    for i in range(n):\n",
    "        S+=i\n",
    "    stoptime=time.time() \n",
    "    #S=sum([i for i in range(n)])\n",
    "    print 'Computing for %d finalized with result %d; finalized in %.6f sec'%(n,S,stoptime-starttime)\n",
    "    return S\n",
    "\n",
    "args = [10000000,100000,1,100] #arguments to pass to the computation processes\n",
    "\n",
    "for a in args: #launch all processes\n",
    "     processFunction(a) "
   ]
  },
  {
   "cell_type": "markdown",
   "metadata": {},
   "source": [
    "Now try running them as processes to be executed in parallel"
   ]
  },
  {
   "cell_type": "code",
   "execution_count": 3,
   "metadata": {},
   "outputs": [
    {
     "name": "stdout",
     "output_type": "stream",
     "text": [
      "Computing for 1 finalized with result 0; finalized in 0.000009 sec\n",
      "Computing for 100 finalized with result 4950; finalized in 0.000037 sec\n",
      "Computing for 100000 finalized with result 4999950000; finalized in 0.018272 sec\n",
      "Computing for 10000000 finalized with result 49999995000000; finalized in 1.441842 sec\n"
     ]
    }
   ],
   "source": [
    "#define a function implementing a computation process (summing up numbers from 1 to n-1)\n",
    "def processFunction(n):\n",
    "    starttime=time.time()\n",
    "    S=0\n",
    "    for i in range(n):\n",
    "        S+=i\n",
    "    stoptime=time.time() \n",
    "    #S=sum([i for i in range(n)])\n",
    "    print 'Computing for %d finalized with result %d; finalized in %.6f sec'%(n,S,stoptime-starttime)\n",
    "    return S\n",
    "\n",
    "args = [10000000,100000,1,100] #arguments to pass to the computation processes\n",
    "\n",
    "for a in args: #launch all processes\n",
    "    p = multiprocessing.Process(target=processFunction, args=(a,)) #create a process\n",
    "    p.start() #start a process"
   ]
  },
  {
   "cell_type": "markdown",
   "metadata": {},
   "source": [
    "As we can see the processes do not finalize in the order they were launched. Instead the fastest ones finalize first. So they were indeed launched in parallel, not sequencially"
   ]
  },
  {
   "cell_type": "markdown",
   "metadata": {},
   "source": [
    "However processes often do not run in isolation, like in the example above. It is often useful to share resources between them. Consider processes incrementing a certain common value for a certain number of times"
   ]
  },
  {
   "cell_type": "code",
   "execution_count": 4,
   "metadata": {},
   "outputs": [
    {
     "name": "stdout",
     "output_type": "stream",
     "text": [
      "Computing for 1 finalized with result 74; finalized in 0.000066 sec\n",
      "Computing for 100 finalized with result 831; finalized in 0.002852 sec\n"
     ]
    },
    {
     "data": {
      "text/plain": [
       "317"
      ]
     },
     "execution_count": 4,
     "metadata": {},
     "output_type": "execute_result"
    },
    {
     "name": "stdout",
     "output_type": "stream",
     "text": [
      "Computing for 100000 finalized with result 100227; finalized in 1.323428 sec\n",
      "Computing for 1000000 finalized with result 1004272; finalized in 5.873719 sec\n"
     ]
    }
   ],
   "source": [
    "def processFunction(n,S):\n",
    "    starttime=time.time()\n",
    "    for i in range(n):\n",
    "        S.value+=1\n",
    "    stoptime=time.time() \n",
    "    print 'Computing for %d finalized with result %d; finalized in %.6f sec'%(n,S.value,stoptime-starttime)\n",
    "    return S.value\n",
    "    \n",
    "\n",
    "args = [1000000,100000,1,100] #arguments to pass to the computation processes\n",
    "\n",
    "\n",
    "S=multiprocessing.Value('i', 0)\n",
    "\n",
    "for a in args: #launch all processes\n",
    "    p = multiprocessing.Process(target=processFunction, args=(a,S))\n",
    "    p.start()\n",
    "\n",
    "S.value"
   ]
  },
  {
   "cell_type": "markdown",
   "metadata": {},
   "source": [
    "It is evident that the processes got mixed up, e.g. the one which had to increment 100 times finalized when the value was already 468. What is interesting however is that the total number of interments is wrong!\n",
    "\n",
    "This is because +=1 is not an atomic operator and can be interrupted by another process. We can prevent this from happening using Lock"
   ]
  },
  {
   "cell_type": "code",
   "execution_count": 5,
   "metadata": {},
   "outputs": [
    {
     "name": "stdout",
     "output_type": "stream",
     "text": [
      "Computing for 1 finalized with result 89; finalized in 0.000088 sec\n"
     ]
    },
    {
     "data": {
      "text/plain": [
       "169"
      ]
     },
     "execution_count": 5,
     "metadata": {},
     "output_type": "execute_result"
    },
    {
     "name": "stdout",
     "output_type": "stream",
     "text": [
      "Computing for 100 finalized with result 650; finalized in 0.003237 sec\n",
      "Computing for 100000 finalized with result 197628; finalized in 2.096407 sec\n",
      "Computing for 1000000 finalized with result 1100101; finalized in 9.422921 sec\n"
     ]
    }
   ],
   "source": [
    "def processFunction(n,S,l):\n",
    "    starttime=time.time()\n",
    "    for i in range(n):\n",
    "        l.acquire()\n",
    "        S.value+=1\n",
    "        l.release()\n",
    "    stoptime=time.time() \n",
    "    print 'Computing for %d finalized with result %d; finalized in %.6f sec'%(n,S.value,stoptime-starttime)\n",
    "    return S.value\n",
    "    \n",
    "\n",
    "args = [1000000,100000,1,100] #arguments to pass to the computation processes\n",
    "\n",
    "lock = multiprocessing.Lock()\n",
    "\n",
    "S=multiprocessing.Value('i', 0)\n",
    "\n",
    "for a in args: #launch all processes\n",
    "    p = multiprocessing.Process(target=processFunction, args=(a,S,lock))\n",
    "    p.start()\n",
    "\n",
    "S.value"
   ]
  },
  {
   "cell_type": "code",
   "execution_count": 7,
   "metadata": {},
   "outputs": [
    {
     "data": {
      "text/plain": [
       "0"
      ]
     },
     "execution_count": 7,
     "metadata": {},
     "output_type": "execute_result"
    },
    {
     "name": "stdout",
     "output_type": "stream",
     "text": [
      "Computing for 1000000 finalized with result 1000000; finalized in 5.006873 sec\n",
      "Computing for 100000 finalized with result 1100000; finalized in 0.520134 sec\n",
      "Computing for 1 finalized with result 1100001; finalized in 0.000122 sec\n",
      "Computing for 100 finalized with result 1100101; finalized in 0.000752 sec\n"
     ]
    }
   ],
   "source": [
    "#can also lock the entire process to prevent any interruption. Then they will run one by one, rather than in parallel\n",
    "def processFunction(n,S,l):\n",
    "    l.acquire()\n",
    "    starttime=time.time()\n",
    "    for i in range(n):\n",
    "        S.value+=1\n",
    "    stoptime=time.time() \n",
    "    print 'Computing for %d finalized with result %d; finalized in %.6f sec'%(n,S.value,stoptime-starttime)\n",
    "    l.release()\n",
    "    return S.value\n",
    "    \n",
    "\n",
    "args = [1000000,100000,1,100] #arguments to pass to the computation processes\n",
    "\n",
    "lock = multiprocessing.Lock()\n",
    "\n",
    "S=multiprocessing.Value('i', 0)\n",
    "\n",
    "for a in args: #launch all processes\n",
    "    p = multiprocessing.Process(target=processFunction, args=(a,S,lock))\n",
    "    p.start()\n",
    "\n",
    "S.value"
   ]
  },
  {
   "cell_type": "markdown",
   "metadata": {},
   "source": [
    "This was just a brief intro into the basic funcionality related with multiprocessing. Next we will consider how this and some more advanced machinery can be applied to agent based simulation"
   ]
  },
  {
   "cell_type": "code",
   "execution_count": null,
   "metadata": {},
   "outputs": [],
   "source": []
  }
 ],
 "metadata": {
  "kernelspec": {
   "display_name": "Python 2",
   "language": "python",
   "name": "python2"
  },
  "language_info": {
   "codemirror_mode": {
    "name": "ipython",
    "version": 2
   },
   "file_extension": ".py",
   "mimetype": "text/x-python",
   "name": "python",
   "nbconvert_exporter": "python",
   "pygments_lexer": "ipython2",
   "version": "2.7.15"
  }
 },
 "nbformat": 4,
 "nbformat_minor": 2
}
