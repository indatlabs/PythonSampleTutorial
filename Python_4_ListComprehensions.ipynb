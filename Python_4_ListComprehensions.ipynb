{
 "cells": [
  {
   "cell_type": "markdown",
   "metadata": {},
   "source": [
    "# Python tutorial\n",
    "Instructor: Stan Sobolevsky  \n",
    "Founding Partner at www.indatlabs.com  \n",
    "Associate Professor Of Practice And Director Of Urban Complexity Lab\n",
    "at New York University (CUSP NYU)\n",
    "sobolevsky@indatlabs.com\n",
    "\n",
    "A video for this class could be found at: https://drive.google.com/open?id=1OF3PUOqD3tvvokbhHAZnNeBwdd9MnABZ"
   ]
  },
  {
   "cell_type": "markdown",
   "metadata": {},
   "source": [
    "# List comprehensions in Python"
   ]
  },
  {
   "cell_type": "markdown",
   "metadata": {},
   "source": [
    "List comprehensions are one of those native \"Pythonic\" features making Python code so elegant and efficient. They allow to create the lists in one single line of code, which could be used in assignment statements and other inline expressions."
   ]
  },
  {
   "cell_type": "markdown",
   "metadata": {},
   "source": [
    "For example, create a list of squares of integers from 1 to 10. This is how one would do it in a traditional manner:"
   ]
  },
  {
   "cell_type": "code",
   "execution_count": 1,
   "metadata": {},
   "outputs": [
    {
     "data": {
      "text/plain": [
       "[1, 4, 9, 16, 25, 36, 49, 64, 81, 100]"
      ]
     },
     "execution_count": 1,
     "metadata": {},
     "output_type": "execute_result"
    }
   ],
   "source": [
    "L=[]\n",
    "for i in range(1,11):\n",
    "    L+=[i**2]\n",
    "L"
   ]
  },
  {
   "cell_type": "markdown",
   "metadata": {},
   "source": [
    "And this is an alternative syntax (called **list comprehension**) for creating a list of $i^2$ elements for all i within a given range - an inline loop put right inside the square braces:"
   ]
  },
  {
   "cell_type": "code",
   "execution_count": 2,
   "metadata": {},
   "outputs": [
    {
     "data": {
      "text/plain": [
       "[1, 4, 9, 16, 25, 36, 49, 64, 81, 100]"
      ]
     },
     "execution_count": 2,
     "metadata": {},
     "output_type": "execute_result"
    }
   ],
   "source": [
    "[i**2 for i in range(1,11)]"
   ]
  },
  {
   "cell_type": "markdown",
   "metadata": {},
   "source": [
    "Consider **another example** where we need to stack together X and Y coordinates of the following $N$ points stored in the corresponding arrays below (provided they have the same length)"
   ]
  },
  {
   "cell_type": "code",
   "execution_count": 3,
   "metadata": {},
   "outputs": [],
   "source": [
    "X=[1,2,3,4,5]; Y=[2,4,3,1,5]; N=len(X)"
   ]
  },
  {
   "cell_type": "code",
   "execution_count": 4,
   "metadata": {},
   "outputs": [
    {
     "data": {
      "text/plain": [
       "[(1, 2), (2, 4), (3, 3), (4, 1), (5, 5)]"
      ]
     },
     "execution_count": 4,
     "metadata": {},
     "output_type": "execute_result"
    }
   ],
   "source": [
    "#stack x-y coordinates of the points as tuples\n",
    "[(X[i],Y[i]) for i in range(N)]"
   ]
  },
  {
   "cell_type": "markdown",
   "metadata": {},
   "source": [
    "We can use list comprehension within other statements, like below"
   ]
  },
  {
   "cell_type": "code",
   "execution_count": 5,
   "metadata": {},
   "outputs": [
    {
     "data": {
      "text/plain": [
       "[(1, 2),\n",
       " (2, 4),\n",
       " (3, 3),\n",
       " (4, 1),\n",
       " (5, 5),\n",
       " (5, 5),\n",
       " (1, 4),\n",
       " (3, 3),\n",
       " (4, 2),\n",
       " (2, 1)]"
      ]
     },
     "execution_count": 5,
     "metadata": {},
     "output_type": "execute_result"
    }
   ],
   "source": [
    "P=[(X[i],Y[i]) for i in range(N)]+[(Y[i],X[i]) for i in range(N)][::-1]; P"
   ]
  },
  {
   "cell_type": "markdown",
   "metadata": {},
   "source": [
    "Finally consider a slightly **more complex example** having some applied utility: find the number of points with integer coordinates within a circle of radius 100 centered in the origin (0,0)"
   ]
  },
  {
   "cell_type": "code",
   "execution_count": 6,
   "metadata": {},
   "outputs": [],
   "source": [
    "R=100"
   ]
  },
  {
   "cell_type": "code",
   "execution_count": 7,
   "metadata": {},
   "outputs": [
    {
     "data": {
      "text/plain": [
       "31417"
      ]
     },
     "execution_count": 7,
     "metadata": {},
     "output_type": "execute_result"
    }
   ],
   "source": [
    "#the square distance of (x,y) from the origin should be <=R**2\n",
    "#this is why x and y can't be modulo higher than R\n",
    "#take all pairs of x,y ranging from -R to R\n",
    "#add if clause in the end of list comprehension to filter only those (x,y) satisfying the condition above \n",
    "#finally we only need a length of this array\n",
    "len([(x,y) for x in range(-R,R+1) for y in range(-R,R+1) if x**2+y**2<=R**2])"
   ]
  },
  {
   "cell_type": "markdown",
   "metadata": {},
   "source": [
    "Even such a relatively complex problem can be still solved in just one line of code!"
   ]
  },
  {
   "cell_type": "markdown",
   "metadata": {},
   "source": [
    "So what is the *applied utility* here? Actually the line above implements a **Monte Carlo approximation of an area** of the circle (a version with uniform point sampling; each point represents a unique neihborhood of a unit area so the number of points approximates the total number of units of area within the considered shape). In case of a circle one would rather find its area using a well known formulae $\\pi R^2$, however this approach is also applicable for any other more complex figure, which can be defined using coordinate conditions"
   ]
  },
  {
   "cell_type": "markdown",
   "metadata": {},
   "source": [
    "Let's see how close is the approximation by comparing the result above with the actual value of an area given by the formulae"
   ]
  },
  {
   "cell_type": "code",
   "execution_count": 8,
   "metadata": {},
   "outputs": [
    {
     "data": {
      "text/plain": [
       "31415.926535897932"
      ]
     },
     "execution_count": 8,
     "metadata": {},
     "output_type": "execute_result"
    }
   ],
   "source": [
    "import numpy as np\n",
    "np.pi*R**2"
   ]
  },
  {
   "cell_type": "markdown",
   "metadata": {},
   "source": [
    "Results look pretty close indeed!"
   ]
  },
  {
   "cell_type": "code",
   "execution_count": null,
   "metadata": {},
   "outputs": [],
   "source": []
  }
 ],
 "metadata": {
  "kernelspec": {
   "display_name": "Python 2",
   "language": "python",
   "name": "python2"
  },
  "language_info": {
   "codemirror_mode": {
    "name": "ipython",
    "version": 2
   },
   "file_extension": ".py",
   "mimetype": "text/x-python",
   "name": "python",
   "nbconvert_exporter": "python",
   "pygments_lexer": "ipython2",
   "version": "2.7.15"
  }
 },
 "nbformat": 4,
 "nbformat_minor": 2
}
